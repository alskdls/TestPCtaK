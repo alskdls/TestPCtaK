{
 "cells": [
  {
   "cell_type": "markdown",
   "id": "8967a4c9",
   "metadata": {},
   "source": [
    "# Моя перша програма!"
   ]
  },
  {
   "cell_type": "code",
   "execution_count": 4,
   "id": "6589f3d0",
   "metadata": {},
   "outputs": [
    {
     "name": "stdout",
     "output_type": "stream",
     "text": [
      "Maxim start programming at 2025-09-25 15:14:17.528941. Lviv is my favorite city!\n"
     ]
    }
   ],
   "source": [
    "from datetime import datetime\n",
    "name = \"Maxim\"\n",
    "location = \"Lviv\"\n",
    "\n",
    "print(f\"{name} start programming at {datetime.now()}. {location} is my favorite city!\")"
   ]
  }
 ],
 "metadata": {
  "kernelspec": {
   "display_name": "Python 3",
   "language": "python",
   "name": "python3"
  },
  "language_info": {
   "codemirror_mode": {
    "name": "ipython",
    "version": 3
   },
   "file_extension": ".py",
   "mimetype": "text/x-python",
   "name": "python",
   "nbconvert_exporter": "python",
   "pygments_lexer": "ipython3",
   "version": "3.13.7"
  }
 },
 "nbformat": 4,
 "nbformat_minor": 5
}
